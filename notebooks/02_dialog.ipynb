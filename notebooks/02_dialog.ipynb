{
 "cells": [
  {
   "cell_type": "markdown",
   "metadata": {},
   "source": [
    "## First things first\n",
    "\n",
    "Import rollnw and make a new Dialog"
   ]
  },
  {
   "cell_type": "code",
   "execution_count": null,
   "metadata": {},
   "outputs": [],
   "source": [
    "from rollnw import Dialog, DialogPtr, kernel\n",
    "kernel.start()\n",
    "\n",
    "dlg = Dialog()"
   ]
  },
  {
   "cell_type": "markdown",
   "metadata": {},
   "source": [
    "## Adding starts\n",
    "\n",
    "\"Starts\" are the opening lines of the conversation spoken by the NPC."
   ]
  },
  {
   "cell_type": "code",
   "execution_count": null,
   "metadata": {},
   "outputs": [],
   "source": [
    "start1 = dlg.add_string(\"Hello, there.\")\n",
    "start2 = dlg.add_string(\"How about this weather we're having?\")\n",
    "start3 = dlg.add_string(\"Did you hear about what's going on at the old mill?\")"
   ]
  },
  {
   "cell_type": "markdown",
   "metadata": {},
   "source": [
    "## Adding replies\n",
    "\n",
    "Next you can add replies to the starts.  It should be pretty obvious how one could take any hierarchal structure, an xml file, a json, etc.  And recurse through it and the dialog adding nodes."
   ]
  },
  {
   "cell_type": "code",
   "execution_count": null,
   "metadata": {},
   "outputs": [],
   "source": [
    "reply = start1.add_string(\"Hi, nice to meet you.\")"
   ]
  },
  {
   "cell_type": "markdown",
   "metadata": {},
   "source": [
    "## Last things last\n",
    "\n",
    "Dialogs can be saved into two formats currently: gff and rollnw's dialog json format.  **Note:** the latter has nothing to do with the 'official' nim tools."
   ]
  },
  {
   "cell_type": "code",
   "execution_count": null,
   "metadata": {},
   "outputs": [],
   "source": [
    "# Save as gff\n",
    "dlg.save(\"test.dlg\")\n",
    "\n",
    "# Save as json\n",
    "dlg.save(\"test.dlg.json\")\n"
   ]
  }
 ],
 "metadata": {
  "kernelspec": {
   "display_name": "venv-arclight",
   "language": "python",
   "name": "python3"
  },
  "language_info": {
   "codemirror_mode": {
    "name": "ipython",
    "version": 3
   },
   "file_extension": ".py",
   "mimetype": "text/x-python",
   "name": "python",
   "nbconvert_exporter": "python",
   "pygments_lexer": "ipython3",
   "version": "3.13.3"
  }
 },
 "nbformat": 4,
 "nbformat_minor": 2
}
